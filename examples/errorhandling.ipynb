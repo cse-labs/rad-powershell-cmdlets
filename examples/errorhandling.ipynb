{
 "cells": [
  {
   "cell_type": "markdown",
   "metadata": {},
   "source": [
    "# Logging Examples\n",
    "\n",
    "The following cells shows examples of how to use the various logging modules and functions. It also will display the outputs of each function."
   ]
  },
  {
   "cell_type": "code",
   "execution_count": 22,
   "metadata": {
    "dotnet_interactive": {
     "language": "pwsh"
    },
    "polyglot_notebook": {
     "kernelName": "pwsh"
    }
   },
   "outputs": [],
   "source": [
    "# import modules\n",
    "\n",
    "Import-Module -Name \"..\\errorhandling\\Error-Utils.psm1\" -Force\n",
    "Import-Module -Name \"..\\errorhandling\\Text-Utils.psm1\" -Force"
   ]
  },
  {
   "cell_type": "code",
   "execution_count": 23,
   "metadata": {
    "dotnet_interactive": {
     "language": "pwsh"
    },
    "polyglot_notebook": {
     "kernelName": "pwsh"
    }
   },
   "outputs": [
    {
     "name": "stdout",
     "output_type": "stream",
     "text": [
      "\n",
      "\u001b[32;1mCommandType    \u001b[0m\u001b[32;1m Name                                              \u001b[0m\u001b[32;1m Version   \u001b[0m\u001b[32;1m Source\u001b[0m\n",
      "\u001b[32;1m-----------    \u001b[0m \u001b[32;1m----                                              \u001b[0m \u001b[32;1m-------   \u001b[0m \u001b[32;1m------\u001b[0m\n",
      "Function        Format-RadErrorMessage                             0.0        Error-Utils\n",
      "Function        Get-RadErrorMessage                                0.0        Error-Utils\n",
      "Function        Get-RadErrorMessages                               0.0        Error-Utils\n",
      "Function        Import-RadErrorsFromYaml                           0.0        Error-Utils\n",
      "Function        Invoke-TerminatingCommand                          0.0        Error-Utils\n",
      "Function        Confirm-LoggerIsEnabled                            0.0        Text-Utils\n",
      "Function        Show-DebugOutput                                   0.0        Text-Utils\n",
      "Function        Show-Error                                         0.0        Text-Utils\n",
      "Function        Show-FatalError                                    0.0        Text-Utils\n",
      "Function        Show-Output                                        0.0        Text-Utils\n",
      "Function        Show-Title                                         0.0        Text-Utils\n",
      "Function        Show-Warning                                       0.0        Text-Utils\n",
      "\n"
     ]
    }
   ],
   "source": [
    "# return the functions available in Error-Utils and Text-Utils\n",
    "\n",
    "Get-Command -Module Error-Utils\n",
    "Get-Command -Module Text-Utils"
   ]
  },
  {
   "cell_type": "markdown",
   "metadata": {},
   "source": [
    "### Get-RadErrorMessages\n",
    "\n",
    "`Get-RadErrorMessages` returns all the error codes and messages that are available:"
   ]
  },
  {
   "cell_type": "code",
   "execution_count": 18,
   "metadata": {
    "dotnet_interactive": {
     "language": "pwsh"
    },
    "polyglot_notebook": {
     "kernelName": "pwsh"
    }
   },
   "outputs": [
    {
     "name": "stdout",
     "output_type": "stream",
     "text": [
      "\n",
      "\u001b[32;1mName                          \u001b[0m\u001b[32;1m Value\u001b[0m\n",
      "\u001b[32;1m----                          \u001b[0m \u001b[32;1m-----\u001b[0m\n",
      "101                            Error 102: Invalid parameter: {0}. Expected: {1}. Actual: {2}.\n",
      "500                            An unexpected error occurred while executing the command: [{0}]. Er…\n",
      "\n"
     ]
    }
   ],
   "source": [
    "# Returns all available error codes and messages\n",
    "\n",
    "Get-RadErrorMessages"
   ]
  },
  {
   "cell_type": "markdown",
   "metadata": {},
   "source": [
    "### Get-RadErrorMessage\n",
    "\n",
    "`Get-RadErrorMessage` returns a specific error message based on the error code passed in. If the error code is not found, it will return an error message stating that the error code was not found.\n",
    "\n",
    "Some messages allow parameters to be passed in to customize the message. The parameters are passed in as a list and are inserted into the message using the `Format-RadErrorMessage` function inside the `Get-RadErrorMessage` function. The parameters are inserted into the message in the order they are passed in in the list. Parameters are denoted in the message by `{}` and are required if they are present. Not all messages need to have parameters."
   ]
  },
  {
   "cell_type": "code",
   "execution_count": 25,
   "metadata": {
    "dotnet_interactive": {
     "language": "pwsh"
    },
    "polyglot_notebook": {
     "kernelName": "pwsh"
    }
   },
   "outputs": [
    {
     "name": "stdout",
     "output_type": "stream",
     "text": [
      "Error 101: Error 102: Invalid parameter: param1. Expected: param2. Actual: param3.\n"
     ]
    },
    {
     "ename": "Error",
     "evalue": "Command failed: SubmitCode: # Returns a specific error code's message ...",
     "output_type": "error",
     "traceback": [
      "Command failed: SubmitCode: # Returns a specific error code's message ..."
     ]
    }
   ],
   "source": [
    "# Returns a specific error code's message\n",
    "\n",
    "Get-RadErrorMessage -ErrorCode 101 -Parameters \"param1\",\"param2\",\"param3\""
   ]
  },
  {
   "cell_type": "code",
   "execution_count": 26,
   "metadata": {
    "dotnet_interactive": {
     "language": "pwsh"
    },
    "polyglot_notebook": {
     "kernelName": "pwsh"
    }
   },
   "outputs": [
    {
     "name": "stdout",
     "output_type": "stream",
     "text": [
      "\u001b[31;1mException: \u001b[31;1mError: The template requires 3 parameters, but only 0 were provided.\u001b[0m\n"
     ]
    },
    {
     "ename": "Error",
     "evalue": "Command failed: SubmitCode: # If a message requires parameters but they are no ...",
     "output_type": "error",
     "traceback": [
      "Command failed: SubmitCode: # If a message requires parameters but they are no ..."
     ]
    }
   ],
   "source": [
    "# If a message requires parameters but they are not provided, the function will return an error\n",
    "\n",
    "Get-RadErrorMessage -ErrorCode 101 "
   ]
  },
  {
   "cell_type": "code",
   "execution_count": 27,
   "metadata": {
    "dotnet_interactive": {
     "language": "pwsh"
    },
    "polyglot_notebook": {
     "kernelName": "pwsh"
    }
   },
   "outputs": [
    {
     "name": "stdout",
     "output_type": "stream",
     "text": [
      "An unexpected error occurred while executing the command: [{0}]. Error message: [{1}]\n"
     ]
    },
    {
     "ename": "Error",
     "evalue": "Command failed: SubmitCode: # If the error code is not found, it will return a ...",
     "output_type": "error",
     "traceback": [
      "Command failed: SubmitCode: # If the error code is not found, it will return a ..."
     ]
    }
   ],
   "source": [
    "# If the error code is not found, it will return an error message stating that the error code was not found.\n",
    "\n",
    "Get-RadErrorMessage -ErrorCode 200"
   ]
  }
 ],
 "metadata": {
  "kernelspec": {
   "display_name": ".NET (C#)",
   "language": "C#",
   "name": ".net-csharp"
  },
  "language_info": {
   "name": "polyglot-notebook"
  },
  "polyglot_notebook": {
   "kernelInfo": {
    "defaultKernelName": "csharp",
    "items": [
     {
      "aliases": [],
      "name": "csharp"
     }
    ]
   }
  }
 },
 "nbformat": 4,
 "nbformat_minor": 2
}
