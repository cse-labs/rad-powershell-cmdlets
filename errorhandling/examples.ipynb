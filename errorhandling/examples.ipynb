{
 "cells": [
  {
   "cell_type": "markdown",
   "metadata": {},
   "source": [
    "# Logging Examples\n",
    "\n",
    "The following cells shows examples of how to use the various logging modules and functions. It also will display the outputs of each function."
   ]
  },
  {
   "cell_type": "code",
   "execution_count": 71,
   "metadata": {
    "dotnet_interactive": {
     "language": "pwsh"
    },
    "polyglot_notebook": {
     "kernelName": "pwsh"
    }
   },
   "outputs": [],
   "source": [
    "# import modules\n",
    "\n",
    "Import-Module -Name \".\\cmdlets\\Rad-Error-Utils.psm1\" -Force\n",
    "Import-Module -Name \".\\cmdlets\\Rad-Text-Utils.psm1\" -Force\n",
    "\n",
    "if ($null -eq (Get-Module -ListAvailable -Name powershell-yaml)) {\n",
    "    Install-Module -Name powershell-yaml -Scope CurrentUser -Force\n",
    "}"
   ]
  },
  {
   "cell_type": "code",
   "execution_count": 19,
   "metadata": {
    "dotnet_interactive": {
     "language": "pwsh"
    },
    "polyglot_notebook": {
     "kernelName": "pwsh"
    }
   },
   "outputs": [
    {
     "name": "stdout",
     "output_type": "stream",
     "text": [
      "\n",
      "\u001b[32;1mCommandType    \u001b[0m\u001b[32;1m Name                                              \u001b[0m\u001b[32;1m Version   \u001b[0m\u001b[32;1m Source\u001b[0m\n",
      "\u001b[32;1m-----------    \u001b[0m \u001b[32;1m----                                              \u001b[0m \u001b[32;1m-------   \u001b[0m \u001b[32;1m------\u001b[0m\n",
      "Function        Format-RadErrorMessage                             0.0        Rad-Error-Utils\n",
      "Function        Get-RadErrorMessage                                0.0        Rad-Error-Utils\n",
      "Function        Get-RadErrorMessages                               0.0        Rad-Error-Utils\n",
      "Function        Import-RadErrorsFromYaml                           0.0        Rad-Error-Utils\n",
      "Function        Invoke-TerminatingCommand                          0.0        Rad-Error-Utils\n",
      "Function        Set-RadErrorMessages                               0.0        Rad-Error-Utils\n",
      "Function        Confirm-LoggerIsEnabled                            0.0        Rad-Text-Utils\n",
      "Function        Show-DebugOutput                                   0.0        Rad-Text-Utils\n",
      "Function        Show-Error                                         0.0        Rad-Text-Utils\n",
      "Function        Show-FatalError                                    0.0        Rad-Text-Utils\n",
      "Function        Show-Output                                        0.0        Rad-Text-Utils\n",
      "Function        Show-Title                                         0.0        Rad-Text-Utils\n",
      "Function        Show-Warning                                       0.0        Rad-Text-Utils\n",
      "\n"
     ]
    }
   ],
   "source": [
    "# return the functions available in Error-Utils and Text-Utils\n",
    "\n",
    "Get-Command -Module Rad-Error-Utils\n",
    "Get-Command -Module Rad-Text-Utils"
   ]
  },
  {
   "cell_type": "markdown",
   "metadata": {},
   "source": [
    "### Get-RadErrorMessages\n",
    "\n",
    "`Get-RadErrorMessages` returns all the error codes and messages that are available:"
   ]
  },
  {
   "cell_type": "code",
   "execution_count": 28,
   "metadata": {
    "dotnet_interactive": {
     "language": "pwsh"
    },
    "polyglot_notebook": {
     "kernelName": "pwsh"
    }
   },
   "outputs": [
    {
     "name": "stdout",
     "output_type": "stream",
     "text": [
      "\n",
      "\u001b[32;1mName                          \u001b[0m\u001b[32;1m Value\u001b[0m\n",
      "\u001b[32;1m----                          \u001b[0m \u001b[32;1m-----\u001b[0m\n",
      "101                            Error 102: Invalid parameter: {0}. Expected: {1}. Actual: {2}.\n",
      "500                            An unexpected error occurred while executing the command: [{0}]. Er…\n",
      "\n"
     ]
    }
   ],
   "source": [
    "Get-RadErrorMessages"
   ]
  },
  {
   "cell_type": "markdown",
   "metadata": {},
   "source": [
    "### Get-RadErrorMessage\n",
    "\n",
    "`Get-RadErrorMessage` returns a specific error message based on the error code passed in. If the error code is not found, it will return an error message stating that the error code was not found.\n",
    "\n",
    "Some messages allow parameters to be passed in to customize the message. More information on this can be found in the [Format-RadErrorMessage](#Format-RadErrorMessage) section."
   ]
  },
  {
   "cell_type": "code",
   "execution_count": 7,
   "metadata": {
    "dotnet_interactive": {
     "language": "pwsh"
    },
    "polyglot_notebook": {
     "kernelName": "pwsh"
    }
   },
   "outputs": [
    {
     "name": "stdout",
     "output_type": "stream",
     "text": [
      "Error 102: Invalid parameter: param1. Expected: param2. Actual: param3.. Error Code: 101\n"
     ]
    }
   ],
   "source": [
    "Get-RadErrorMessage -ErrorCode 101 -Parameters \"param1\",\"param2\",\"param3\""
   ]
  },
  {
   "cell_type": "markdown",
   "metadata": {},
   "source": [
    "- If a message requires parameters but they are not provided, the function will return an error:"
   ]
  },
  {
   "cell_type": "code",
   "execution_count": 8,
   "metadata": {
    "dotnet_interactive": {
     "language": "pwsh"
    },
    "polyglot_notebook": {
     "kernelName": "pwsh"
    }
   },
   "outputs": [
    {
     "name": "stdout",
     "output_type": "stream",
     "text": [
      "\u001b[31;1mException: \u001b[31;1mError: The template requires 3 parameters, but only 0 were provided.\u001b[0m\n"
     ]
    },
    {
     "ename": "Error",
     "evalue": "Command failed: SubmitCode: Get-RadErrorMessage -ErrorCode 101 ",
     "output_type": "error",
     "traceback": [
      "Command failed: SubmitCode: Get-RadErrorMessage -ErrorCode 101 "
     ]
    }
   ],
   "source": [
    "Get-RadErrorMessage -ErrorCode 101 "
   ]
  },
  {
   "cell_type": "markdown",
   "metadata": {},
   "source": [
    "- If the error code is not found, it will return a generic error message:"
   ]
  },
  {
   "cell_type": "code",
   "execution_count": 9,
   "metadata": {
    "dotnet_interactive": {
     "language": "pwsh"
    },
    "polyglot_notebook": {
     "kernelName": "pwsh"
    }
   },
   "outputs": [
    {
     "name": "stdout",
     "output_type": "stream",
     "text": [
      "An unexpected error occurred while executing the command. Error Code: 200\n"
     ]
    },
    {
     "ename": "Error",
     "evalue": "Command failed: SubmitCode: Get-RadErrorMessage -ErrorCode 200",
     "output_type": "error",
     "traceback": [
      "Command failed: SubmitCode: Get-RadErrorMessage -ErrorCode 200"
     ]
    }
   ],
   "source": [
    "Get-RadErrorMessage -ErrorCode 200"
   ]
  },
  {
   "cell_type": "markdown",
   "metadata": {},
   "source": [
    "### Format-RadErrorMessage\n",
    "\n",
    "`Format-RadErrorMessage` is used to format error messages in a consistent way to improve readability and maintainability.\n",
    "\n",
    "It is also used to insert parameters into a message. It takes in a message and a list of parameters and returns the message with the parameters inserted. The parameters are inserted into the message in the order they are passed in in the list. Parameters are denoted in the message by `{}` and are required if they are present. Not all messages need to have parameters."
   ]
  },
  {
   "cell_type": "code",
   "execution_count": 27,
   "metadata": {
    "dotnet_interactive": {
     "language": "pwsh"
    },
    "polyglot_notebook": {
     "kernelName": "pwsh"
    }
   },
   "outputs": [
    {
     "name": "stdout",
     "output_type": "stream",
     "text": [
      "Error 101: Invalid parameter: [param1]. Expected: [param2]. Actual: [param3].\n"
     ]
    }
   ],
   "source": [
    "$ErrorMessages = Get-RadErrorMessages\n",
    "$ErrorCode = \"101\"\n",
    "\n",
    "Format-RadErrorMessage -Template $ErrorMessages[$ErrorCode] -Parameters \"param1\",\"param2\",\"param3\""
   ]
  },
  {
   "cell_type": "markdown",
   "metadata": {},
   "source": [
    "### Import-RadErrorsFromYaml\n",
    "\n",
    "`Import-RadErrorsFromYaml` is used to import error codes and messages from a YAML file. It takes in a path to a YAML file and returns a hashtable of the error codes and messages. This allows you to add your own custom error codes and messages. The YAML file must be in the following format:\n",
    "\n",
    "```yaml\n",
    "  # common_errors.yaml\n",
    "  errors:\n",
    "    1000: \"Unexpected error\"\n",
    "    1001: \"FileNotFoundError - Failure to locate or access a specified file or directory. [{0}]\"\n",
    "    1004: \"PermissionDeniedError - Insufficient permissions to perform the {0} operation.\"\n",
    "    1005: \"TypeError - Mismatched data types or unsupported operations on a data type {0}.\"\n",
    "    1010: \"Unsupported operation - The operation {0} is not supported.\"\n",
    "```\n",
    "\n"
   ]
  },
  {
   "cell_type": "code",
   "execution_count": null,
   "metadata": {
    "dotnet_interactive": {
     "language": "pwsh"
    },
    "polyglot_notebook": {
     "kernelName": "pwsh"
    }
   },
   "outputs": [],
   "source": [
    "Import-RadErrorsFromYaml -YamlFile \".\\samples\\errors-example.yaml\""
   ]
  },
  {
   "cell_type": "markdown",
   "metadata": {},
   "source": [
    "Then after importing the YAML file, you can use the `Get-RadErrorMessages` function to get the error messages:"
   ]
  },
  {
   "cell_type": "code",
   "execution_count": 50,
   "metadata": {
    "dotnet_interactive": {
     "language": "pwsh"
    },
    "polyglot_notebook": {
     "kernelName": "pwsh"
    }
   },
   "outputs": [
    {
     "name": "stdout",
     "output_type": "stream",
     "text": [
      "\n",
      "\u001b[32;1mName                          \u001b[0m\u001b[32;1m Value\u001b[0m\n",
      "\u001b[32;1m----                          \u001b[0m \u001b[32;1m-----\u001b[0m\n",
      "101                            Error 102: Invalid parameter: {0}. Expected: {1}. Actual: {2}.\n",
      "500                            An unexpected error occurred while executing the command: [{0}]. Er…\n",
      "\n"
     ]
    }
   ],
   "source": [
    "Get-RadErrorMessages"
   ]
  },
  {
   "cell_type": "markdown",
   "metadata": {},
   "source": [
    "### Set-RadErrorMessages\n",
    "\n",
    "`Set-RadErrorMessages` allows you to add new error messages. It takes in a hashtable of error codes and messages and adds them to the existing error messages. If the error code already exists, it will overwrite the existing error message.\n",
    "\n",
    "For comparison purposes, these are the default error error messages available at the start:"
   ]
  },
  {
   "cell_type": "code",
   "execution_count": 76,
   "metadata": {
    "dotnet_interactive": {
     "language": "pwsh"
    },
    "polyglot_notebook": {
     "kernelName": "pwsh"
    }
   },
   "outputs": [
    {
     "name": "stdout",
     "output_type": "stream",
     "text": [
      "\n",
      "\u001b[32;1mName                          \u001b[0m\u001b[32;1m Value\u001b[0m\n",
      "\u001b[32;1m----                          \u001b[0m \u001b[32;1m-----\u001b[0m\n",
      "101                            Error 102: Invalid parameter: {0}. Expected: {1}. Actual: {2}.\n",
      "500                            An unexpected error occurred while executing the command: [{0}]. Er…\n",
      "\n"
     ]
    }
   ],
   "source": [
    "# For comparison purposes, these are the default error error messages available\n",
    "\n",
    "Get-RadErrorMessages"
   ]
  },
  {
   "cell_type": "markdown",
   "metadata": {},
   "source": [
    "Now, let's add a few new error messages:"
   ]
  },
  {
   "cell_type": "code",
   "execution_count": 77,
   "metadata": {
    "dotnet_interactive": {
     "language": "pwsh"
    },
    "polyglot_notebook": {
     "kernelName": "pwsh"
    }
   },
   "outputs": [
    {
     "name": "stdout",
     "output_type": "stream",
     "text": [
      "\n",
      "\u001b[32;1mName                          \u001b[0m\u001b[32;1m Value\u001b[0m\n",
      "\u001b[32;1m----                          \u001b[0m \u001b[32;1m-----\u001b[0m\n",
      "1000                           Unexpected error\n",
      "1001                           FileNotFoundError - Failure to locate or access a specified file or…\n",
      "1004                           PermissionDeniedError - Insufficient permissions to perform the {0}…\n",
      "1005                           TypeError - Mismatched data types or unsupported operations on a da…\n",
      "101                            Error 102: Invalid parameter: {0}. Expected: {1}. Actual: {2}.\n",
      "1010                           Unsupported operation - The operation {0} is not supported.\n",
      "500                            An unexpected error occurred while executing the command: [{0}]. Er…\n",
      "\n"
     ]
    }
   ],
   "source": [
    "$ErrorMessages = @{\n",
    "    \"1000\" = \"Unexpected error\"\n",
    "    \"1001\" = \"FileNotFoundError - Failure to locate or access a specified file or directory. [{0}]\"\n",
    "    \"1004\" = \"PermissionDeniedError - Insufficient permissions to perform the {0} operation.\"\n",
    "    \"1005\" = \"TypeError - Mismatched data types or unsupported operations on a data type {0}.\"\n",
    "    \"1010\" = \"Unsupported operation - The operation {0} is not supported.\"\n",
    "}\n",
    "\n",
    "Set-RadErrorMessages -NewErrorMessages $ErrorMessages"
   ]
  },
  {
   "cell_type": "markdown",
   "metadata": {},
   "source": [
    "Finally, let's update an existing error message:"
   ]
  },
  {
   "cell_type": "code",
   "execution_count": 78,
   "metadata": {
    "dotnet_interactive": {
     "language": "pwsh"
    },
    "polyglot_notebook": {
     "kernelName": "pwsh"
    }
   },
   "outputs": [
    {
     "name": "stdout",
     "output_type": "stream",
     "text": [
      "\n",
      "\u001b[32;1mName                          \u001b[0m\u001b[32;1m Value\u001b[0m\n",
      "\u001b[32;1m----                          \u001b[0m \u001b[32;1m-----\u001b[0m\n",
      "1000                           A RAD error message\n",
      "1001                           FileNotFoundError - Failure to locate or access a specified file or…\n",
      "1004                           PermissionDeniedError - Insufficient permissions to perform the {0}…\n",
      "1005                           TypeError - Mismatched data types or unsupported operations on a da…\n",
      "101                            Error 102: Invalid parameter: {0}. Expected: {1}. Actual: {2}.\n",
      "1010                           Unsupported operation - The operation {0} is not supported.\n",
      "500                            An unexpected error occurred while executing the command: [{0}]. Er…\n",
      "\n"
     ]
    }
   ],
   "source": [
    "$ErrorMessages = @{\n",
    "    \"1000\" = \"A RAD error message\"\n",
    "}\n",
    "\n",
    "Set-RadErrorMessages -NewErrorMessages $ErrorMessages"
   ]
  },
  {
   "cell_type": "markdown",
   "metadata": {},
   "source": [
    "> There is an optional parameter `-Overwrite` that will overwrite all the existing error messages with the new error messages."
   ]
  },
  {
   "cell_type": "code",
   "execution_count": 79,
   "metadata": {
    "dotnet_interactive": {
     "language": "pwsh"
    },
    "polyglot_notebook": {
     "kernelName": "pwsh"
    }
   },
   "outputs": [
    {
     "name": "stdout",
     "output_type": "stream",
     "text": [
      "\n",
      "\u001b[32;1mName                          \u001b[0m\u001b[32;1m Value\u001b[0m\n",
      "\u001b[32;1m----                          \u001b[0m \u001b[32;1m-----\u001b[0m\n",
      "2000                           Unexpected error\n",
      "2001                           FileNotFoundError - Failure to locate or access a specified file or…\n",
      "2004                           PermissionDeniedError - Insufficient permissions to perform the {0}…\n",
      "2005                           TypeError - Mismatched data types or unsupported operations on a da…\n",
      "2010                           Unsupported operation - The operation {0} is not supported.\n",
      "\n"
     ]
    }
   ],
   "source": [
    "$ErrorMessages = @{\n",
    "    \"2000\" = \"Unexpected error\"\n",
    "    \"2001\" = \"FileNotFoundError - Failure to locate or access a specified file or directory. [{0}]\"\n",
    "    \"2004\" = \"PermissionDeniedError - Insufficient permissions to perform the {0} operation.\"\n",
    "    \"2005\" = \"TypeError - Mismatched data types or unsupported operations on a data type {0}.\"\n",
    "    \"2010\" = \"Unsupported operation - The operation {0} is not supported.\"\n",
    "}\n",
    "\n",
    "Set-RadErrorMessages -NewErrorMessages $ErrorMessages -Overwrite"
   ]
  },
  {
   "cell_type": "markdown",
   "metadata": {},
   "source": [
    "Now when you run Get-RadErrorMessages you will see the only new error messages:"
   ]
  },
  {
   "cell_type": "code",
   "execution_count": 80,
   "metadata": {
    "dotnet_interactive": {
     "language": "pwsh"
    },
    "polyglot_notebook": {
     "kernelName": "pwsh"
    }
   },
   "outputs": [
    {
     "name": "stdout",
     "output_type": "stream",
     "text": [
      "\n",
      "\u001b[32;1mName                          \u001b[0m\u001b[32;1m Value\u001b[0m\n",
      "\u001b[32;1m----                          \u001b[0m \u001b[32;1m-----\u001b[0m\n",
      "2000                           Unexpected error\n",
      "2005                           TypeError - Mismatched data types or unsupported operations on a da…\n",
      "2010                           Unsupported operation - The operation {0} is not supported.\n",
      "2001                           FileNotFoundError - Failure to locate or access a specified file or…\n",
      "2004                           PermissionDeniedError - Insufficient permissions to perform the {0}…\n",
      "\n"
     ]
    }
   ],
   "source": [
    "Get-RadErrorMessages"
   ]
  }
 ],
 "metadata": {
  "kernelspec": {
   "display_name": ".NET (C#)",
   "language": "C#",
   "name": ".net-csharp"
  },
  "language_info": {
   "name": "polyglot-notebook"
  },
  "polyglot_notebook": {
   "kernelInfo": {
    "defaultKernelName": "csharp",
    "items": [
     {
      "aliases": [],
      "name": "csharp"
     }
    ]
   }
  }
 },
 "nbformat": 4,
 "nbformat_minor": 2
}
