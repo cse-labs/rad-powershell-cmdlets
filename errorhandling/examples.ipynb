{
 "cells": [
  {
   "cell_type": "markdown",
   "metadata": {},
   "source": [
    "# Logging Examples\n",
    "\n",
    "The following cells shows examples of how to use the various logging modules and functions. It also will display the outputs of each function.\n",
    "\n",
    "## Install Pre-Requisites and Load RAD Modules\n",
    "\n",
    "First we need to install the pre-requisites and load the RAD modules to be used in this notebook. The `Init.ps1` script will do this for us."
   ]
  },
  {
   "cell_type": "code",
   "execution_count": 5,
   "metadata": {
    "dotnet_interactive": {
     "language": "pwsh"
    },
    "polyglot_notebook": {
     "kernelName": "pwsh"
    }
   },
   "outputs": [],
   "source": [
    ". .\\samples\\Init.ps1"
   ]
  },
  {
   "cell_type": "markdown",
   "metadata": {},
   "source": [
    "Run `Get-Command` to list all the functions available in the RAD modules:"
   ]
  },
  {
   "cell_type": "code",
   "execution_count": 6,
   "metadata": {
    "dotnet_interactive": {
     "language": "pwsh"
    },
    "polyglot_notebook": {
     "kernelName": "pwsh"
    }
   },
   "outputs": [
    {
     "name": "stdout",
     "output_type": "stream",
     "text": [
      "\n",
      "\u001b[32;1mCommandType    \u001b[0m\u001b[32;1m Name                                              \u001b[0m\u001b[32;1m Version   \u001b[0m\u001b[32;1m Source\u001b[0m\n",
      "\u001b[32;1m-----------    \u001b[0m \u001b[32;1m----                                              \u001b[0m \u001b[32;1m-------   \u001b[0m \u001b[32;1m------\u001b[0m\n",
      "Function        Format-RadErrorMessage                             0.0        Rad-Error-Utils\n",
      "Function        Get-RadErrorMessage                                0.0        Rad-Error-Utils\n",
      "Function        Get-RadErrorMessages                               0.0        Rad-Error-Utils\n",
      "Function        Import-RadErrorsFromYaml                           0.0        Rad-Error-Utils\n",
      "Function        Invoke-TerminatingCommand                          0.0        Rad-Error-Utils\n",
      "Function        Set-RadErrorMessages                               0.0        Rad-Error-Utils\n",
      "Function        Confirm-LoggerIsEnabled                            0.0        Rad-Text-Utils\n",
      "Function        Show-DebugOutput                                   0.0        Rad-Text-Utils\n",
      "Function        Show-Error                                         0.0        Rad-Text-Utils\n",
      "Function        Show-FatalError                                    0.0        Rad-Text-Utils\n",
      "Function        Show-Output                                        0.0        Rad-Text-Utils\n",
      "Function        Show-Title                                         0.0        Rad-Text-Utils\n",
      "Function        Show-Warning                                       0.0        Rad-Text-Utils\n",
      "\n"
     ]
    }
   ],
   "source": [
    "Get-Command -Module Rad-Error-Utils\n",
    "Get-Command -Module Rad-Text-Utils"
   ]
  },
  {
   "cell_type": "markdown",
   "metadata": {},
   "source": [
    "## Enable PoshLog Logger\n",
    "\n",
    "Run the `Init-Logger.ps1` script to enable the PoshLog logger. This will create a `logs` directory in the current directory and create a `PoshLog` logger that will write to the `~/.utils-logs` directory.\n",
    "\n",
    "> See an example of a log file in the [utils-10140105.log.example](samples/utils-10140105.log.example) file."
   ]
  },
  {
   "cell_type": "code",
   "execution_count": 7,
   "metadata": {
    "dotnet_interactive": {
     "language": "pwsh"
    },
    "polyglot_notebook": {
     "kernelName": "pwsh"
    }
   },
   "outputs": [],
   "source": [
    ". .\\samples\\Init-Logger.ps1"
   ]
  },
  {
   "cell_type": "markdown",
   "metadata": {},
   "source": [
    "## Rad-Error-Utils\n",
    "\n",
    "These are examples of how to use the `Rad-Error-Utils` module.\n",
    "\n",
    "### Get-RadErrorMessages\n",
    "\n",
    "`Get-RadErrorMessages` returns all the error codes and messages that are available:"
   ]
  },
  {
   "cell_type": "code",
   "execution_count": 28,
   "metadata": {
    "dotnet_interactive": {
     "language": "pwsh"
    },
    "polyglot_notebook": {
     "kernelName": "pwsh"
    }
   },
   "outputs": [
    {
     "name": "stdout",
     "output_type": "stream",
     "text": [
      "\n",
      "\u001b[32;1mName                          \u001b[0m\u001b[32;1m Value\u001b[0m\n",
      "\u001b[32;1m----                          \u001b[0m \u001b[32;1m-----\u001b[0m\n",
      "101                            Error 102: Invalid parameter: {0}. Expected: {1}. Actual: {2}.\n",
      "500                            An unexpected error occurred while executing the command: [{0}]. Er…\n",
      "\n"
     ]
    }
   ],
   "source": [
    "Get-RadErrorMessages"
   ]
  },
  {
   "cell_type": "markdown",
   "metadata": {},
   "source": [
    "### Get-RadErrorMessage\n",
    "\n",
    "`Get-RadErrorMessage` returns a specific error message based on the error code passed in. \n",
    "\n",
    "> Some messages allow parameters to be passed in to customize the message. More information on this can be found in the [Format-RadErrorMessage](#format-raderrormessage) section."
   ]
  },
  {
   "cell_type": "code",
   "execution_count": 7,
   "metadata": {
    "dotnet_interactive": {
     "language": "pwsh"
    },
    "polyglot_notebook": {
     "kernelName": "pwsh"
    }
   },
   "outputs": [
    {
     "name": "stdout",
     "output_type": "stream",
     "text": [
      "Error 102: Invalid parameter: param1. Expected: param2. Actual: param3.. Error Code: 101\n"
     ]
    }
   ],
   "source": [
    "Get-RadErrorMessage -ErrorCode 101 -Parameters \"param1\",\"param2\",\"param3\""
   ]
  },
  {
   "cell_type": "markdown",
   "metadata": {},
   "source": [
    "- If a message requires parameters but they are not provided, the function will return an error:"
   ]
  },
  {
   "cell_type": "code",
   "execution_count": 8,
   "metadata": {
    "dotnet_interactive": {
     "language": "pwsh"
    },
    "polyglot_notebook": {
     "kernelName": "pwsh"
    }
   },
   "outputs": [
    {
     "name": "stdout",
     "output_type": "stream",
     "text": [
      "\u001b[31;1mException: \u001b[31;1mError: The template requires 3 parameters, but only 0 were provided.\u001b[0m\n"
     ]
    },
    {
     "ename": "Error",
     "evalue": "Command failed: SubmitCode: Get-RadErrorMessage -ErrorCode 101 ",
     "output_type": "error",
     "traceback": [
      "Command failed: SubmitCode: Get-RadErrorMessage -ErrorCode 101 "
     ]
    }
   ],
   "source": [
    "Get-RadErrorMessage -ErrorCode 101 "
   ]
  },
  {
   "cell_type": "markdown",
   "metadata": {},
   "source": [
    "- If the error code is not found, it will return a generic error message:"
   ]
  },
  {
   "cell_type": "code",
   "execution_count": 9,
   "metadata": {
    "dotnet_interactive": {
     "language": "pwsh"
    },
    "polyglot_notebook": {
     "kernelName": "pwsh"
    }
   },
   "outputs": [
    {
     "name": "stdout",
     "output_type": "stream",
     "text": [
      "An unexpected error occurred while executing the command. Error Code: 200\n"
     ]
    },
    {
     "ename": "Error",
     "evalue": "Command failed: SubmitCode: Get-RadErrorMessage -ErrorCode 200",
     "output_type": "error",
     "traceback": [
      "Command failed: SubmitCode: Get-RadErrorMessage -ErrorCode 200"
     ]
    }
   ],
   "source": [
    "Get-RadErrorMessage -ErrorCode 200"
   ]
  },
  {
   "cell_type": "markdown",
   "metadata": {},
   "source": [
    "### Format-RadErrorMessage\n",
    "\n",
    "`Format-RadErrorMessage` is used to format error messages in a consistent way to improve readability and maintainability.\n",
    "\n",
    "It is also used to insert parameters into a message. It takes in a message and a list of parameters and returns the message with the parameters inserted. The parameters are inserted into the message in the order they are passed in in the list. Parameters are denoted in the message by `{}` and are required if they are present. Not all messages need to have parameters."
   ]
  },
  {
   "cell_type": "code",
   "execution_count": 15,
   "metadata": {
    "dotnet_interactive": {
     "language": "pwsh"
    },
    "polyglot_notebook": {
     "kernelName": "pwsh"
    }
   },
   "outputs": [
    {
     "name": "stdout",
     "output_type": "stream",
     "text": [
      "An unexpected error occurred while executing the command: [param1]. Error message: [param2]\n"
     ]
    },
    {
     "ename": "Error",
     "evalue": "Command failed: SubmitCode: $ErrorMessages = Get-RadErrorMessages ...",
     "output_type": "error",
     "traceback": [
      "Command failed: SubmitCode: $ErrorMessages = Get-RadErrorMessages ..."
     ]
    }
   ],
   "source": [
    "$ErrorMessages = Get-RadErrorMessages\n",
    "$ErrorCode = \"500\"\n",
    "\n",
    "Format-RadErrorMessage -Template $ErrorMessages[$ErrorCode] -Parameters \"param1\",\"param2\""
   ]
  },
  {
   "cell_type": "markdown",
   "metadata": {},
   "source": [
    "### Import-RadErrorsFromYaml\n",
    "\n",
    "`Import-RadErrorsFromYaml` is used to import error codes and messages from a YAML file. It takes in a path to a YAML file and returns a hashtable of the error codes and messages. This allows you to add your own custom error codes and messages. The YAML file must be in the following format:\n",
    "\n",
    "```yaml\n",
    "  # common_errors.yaml\n",
    "  errors:\n",
    "    1000: \"Unexpected error\"\n",
    "    1001: \"FileNotFoundError - Failure to locate or access a specified file or directory. [{0}]\"\n",
    "    1004: \"PermissionDeniedError - Insufficient permissions to perform the {0} operation.\"\n",
    "    1005: \"TypeError - Mismatched data types or unsupported operations on a data type {0}.\"\n",
    "    1010: \"Unsupported operation - The operation {0} is not supported.\"\n",
    "```\n",
    "\n"
   ]
  },
  {
   "cell_type": "code",
   "execution_count": null,
   "metadata": {
    "dotnet_interactive": {
     "language": "pwsh"
    },
    "polyglot_notebook": {
     "kernelName": "pwsh"
    }
   },
   "outputs": [],
   "source": [
    "Import-RadErrorsFromYaml -YamlFile \".\\samples\\errors-example.yaml\""
   ]
  },
  {
   "cell_type": "markdown",
   "metadata": {},
   "source": [
    "Then after importing the YAML file, you can use the `Get-RadErrorMessages` function to get the error messages:"
   ]
  },
  {
   "cell_type": "code",
   "execution_count": 50,
   "metadata": {
    "dotnet_interactive": {
     "language": "pwsh"
    },
    "polyglot_notebook": {
     "kernelName": "pwsh"
    }
   },
   "outputs": [
    {
     "name": "stdout",
     "output_type": "stream",
     "text": [
      "\n",
      "\u001b[32;1mName                          \u001b[0m\u001b[32;1m Value\u001b[0m\n",
      "\u001b[32;1m----                          \u001b[0m \u001b[32;1m-----\u001b[0m\n",
      "101                            Error 102: Invalid parameter: {0}. Expected: {1}. Actual: {2}.\n",
      "500                            An unexpected error occurred while executing the command: [{0}]. Er…\n",
      "\n"
     ]
    }
   ],
   "source": [
    "Get-RadErrorMessages"
   ]
  },
  {
   "cell_type": "markdown",
   "metadata": {},
   "source": [
    "### Set-RadErrorMessages\n",
    "\n",
    "`Set-RadErrorMessages` allows you to add new error messages. It takes in a hashtable of error codes and messages and adds them to the existing error messages. If the error code already exists, it will overwrite the existing error message.\n",
    "\n",
    "For comparison purposes, these are the default error error messages available at the start:"
   ]
  },
  {
   "cell_type": "code",
   "execution_count": 76,
   "metadata": {
    "dotnet_interactive": {
     "language": "pwsh"
    },
    "polyglot_notebook": {
     "kernelName": "pwsh"
    }
   },
   "outputs": [
    {
     "name": "stdout",
     "output_type": "stream",
     "text": [
      "\n",
      "\u001b[32;1mName                          \u001b[0m\u001b[32;1m Value\u001b[0m\n",
      "\u001b[32;1m----                          \u001b[0m \u001b[32;1m-----\u001b[0m\n",
      "101                            Error 102: Invalid parameter: {0}. Expected: {1}. Actual: {2}.\n",
      "500                            An unexpected error occurred while executing the command: [{0}]. Er…\n",
      "\n"
     ]
    }
   ],
   "source": [
    "# For comparison purposes, these are the default error error messages available\n",
    "\n",
    "Get-RadErrorMessages"
   ]
  },
  {
   "cell_type": "markdown",
   "metadata": {},
   "source": [
    "Now, let's add a few new error messages:"
   ]
  },
  {
   "cell_type": "code",
   "execution_count": 77,
   "metadata": {
    "dotnet_interactive": {
     "language": "pwsh"
    },
    "polyglot_notebook": {
     "kernelName": "pwsh"
    }
   },
   "outputs": [
    {
     "name": "stdout",
     "output_type": "stream",
     "text": [
      "\n",
      "\u001b[32;1mName                          \u001b[0m\u001b[32;1m Value\u001b[0m\n",
      "\u001b[32;1m----                          \u001b[0m \u001b[32;1m-----\u001b[0m\n",
      "1000                           Unexpected error\n",
      "1001                           FileNotFoundError - Failure to locate or access a specified file or…\n",
      "1004                           PermissionDeniedError - Insufficient permissions to perform the {0}…\n",
      "1005                           TypeError - Mismatched data types or unsupported operations on a da…\n",
      "101                            Error 102: Invalid parameter: {0}. Expected: {1}. Actual: {2}.\n",
      "1010                           Unsupported operation - The operation {0} is not supported.\n",
      "500                            An unexpected error occurred while executing the command: [{0}]. Er…\n",
      "\n"
     ]
    }
   ],
   "source": [
    "$ErrorMessages = @{\n",
    "    \"1000\" = \"Unexpected error\"\n",
    "    \"1001\" = \"FileNotFoundError - Failure to locate or access a specified file or directory. [{0}]\"\n",
    "    \"1004\" = \"PermissionDeniedError - Insufficient permissions to perform the {0} operation.\"\n",
    "    \"1005\" = \"TypeError - Mismatched data types or unsupported operations on a data type {0}.\"\n",
    "    \"1010\" = \"Unsupported operation - The operation {0} is not supported.\"\n",
    "}\n",
    "\n",
    "Set-RadErrorMessages -NewErrorMessages $ErrorMessages"
   ]
  },
  {
   "cell_type": "markdown",
   "metadata": {},
   "source": [
    "Finally, let's update an existing error message:"
   ]
  },
  {
   "cell_type": "code",
   "execution_count": 78,
   "metadata": {
    "dotnet_interactive": {
     "language": "pwsh"
    },
    "polyglot_notebook": {
     "kernelName": "pwsh"
    }
   },
   "outputs": [
    {
     "name": "stdout",
     "output_type": "stream",
     "text": [
      "\n",
      "\u001b[32;1mName                          \u001b[0m\u001b[32;1m Value\u001b[0m\n",
      "\u001b[32;1m----                          \u001b[0m \u001b[32;1m-----\u001b[0m\n",
      "1000                           A RAD error message\n",
      "1001                           FileNotFoundError - Failure to locate or access a specified file or…\n",
      "1004                           PermissionDeniedError - Insufficient permissions to perform the {0}…\n",
      "1005                           TypeError - Mismatched data types or unsupported operations on a da…\n",
      "101                            Error 102: Invalid parameter: {0}. Expected: {1}. Actual: {2}.\n",
      "1010                           Unsupported operation - The operation {0} is not supported.\n",
      "500                            An unexpected error occurred while executing the command: [{0}]. Er…\n",
      "\n"
     ]
    }
   ],
   "source": [
    "$ErrorMessages = @{\n",
    "    \"1000\" = \"A RAD error message\"\n",
    "}\n",
    "\n",
    "Set-RadErrorMessages -NewErrorMessages $ErrorMessages"
   ]
  },
  {
   "cell_type": "markdown",
   "metadata": {},
   "source": [
    "> There is an optional parameter `-Overwrite` that will overwrite all the existing error messages with the new error messages."
   ]
  },
  {
   "cell_type": "code",
   "execution_count": 16,
   "metadata": {
    "dotnet_interactive": {
     "language": "pwsh"
    },
    "polyglot_notebook": {
     "kernelName": "pwsh"
    }
   },
   "outputs": [
    {
     "name": "stdout",
     "output_type": "stream",
     "text": [
      "\n",
      "\u001b[32;1mName                          \u001b[0m\u001b[32;1m Value\u001b[0m\n",
      "\u001b[32;1m----                          \u001b[0m \u001b[32;1m-----\u001b[0m\n",
      "2000                           An unexpected error occurred while executing the command.\n",
      "2001                           FileNotFoundError - Failure to locate or access a specified file or…\n",
      "2004                           PermissionDeniedError - Insufficient permissions to perform the {0}…\n",
      "2005                           TypeError - Mismatched data types or unsupported operations on a da…\n",
      "2010                           Unsupported operation - The operation {0} is not supported.\n",
      "\n"
     ]
    }
   ],
   "source": [
    "$ErrorMessages = @{\n",
    "    \"2000\" = \"An unexpected error occurred while executing the command.\"\n",
    "    \"2001\" = \"FileNotFoundError - Failure to locate or access a specified file or directory. [{0}]\"\n",
    "    \"2004\" = \"PermissionDeniedError - Insufficient permissions to perform the {0} operation.\"\n",
    "    \"2005\" = \"TypeError - Mismatched data types or unsupported operations on a data type {0}.\"\n",
    "    \"2010\" = \"Unsupported operation - The operation {0} is not supported.\"\n",
    "}\n",
    "\n",
    "Set-RadErrorMessages -NewErrorMessages $ErrorMessages -Overwrite"
   ]
  },
  {
   "cell_type": "markdown",
   "metadata": {},
   "source": [
    "Now when you run Get-RadErrorMessages you will see the only new error messages:"
   ]
  },
  {
   "cell_type": "code",
   "execution_count": 17,
   "metadata": {
    "dotnet_interactive": {
     "language": "pwsh"
    },
    "polyglot_notebook": {
     "kernelName": "pwsh"
    }
   },
   "outputs": [
    {
     "name": "stdout",
     "output_type": "stream",
     "text": [
      "\n",
      "\u001b[32;1mName                          \u001b[0m\u001b[32;1m Value\u001b[0m\n",
      "\u001b[32;1m----                          \u001b[0m \u001b[32;1m-----\u001b[0m\n",
      "2005                           TypeError - Mismatched data types or unsupported operations on a da…\n",
      "2000                           An unexpected error occurred while executing the command.\n",
      "2001                           FileNotFoundError - Failure to locate or access a specified file or…\n",
      "2010                           Unsupported operation - The operation {0} is not supported.\n",
      "2004                           PermissionDeniedError - Insufficient permissions to perform the {0}…\n",
      "\n"
     ]
    }
   ],
   "source": [
    "Get-RadErrorMessages"
   ]
  },
  {
   "cell_type": "markdown",
   "metadata": {},
   "source": [
    "### Invoke-TerminatingCommand\n",
    "\n",
    "`Invoke-TerminatingCommand` is used to execute a command and handle any terminating errors that may occur. It takes in a command and a hashtable of parameters to pass to the command. It will invoke the command and if a terminating error occurs, it will handle the error and return a hashtable with the error code, error message, and error details. If no terminating error occurs, it will return the output of the command."
   ]
  },
  {
   "cell_type": "code",
   "execution_count": 18,
   "metadata": {
    "dotnet_interactive": {
     "language": "pwsh"
    },
    "polyglot_notebook": {
     "kernelName": "pwsh"
    }
   },
   "outputs": [
    {
     "name": "stdout",
     "output_type": "stream",
     "text": [
      "[04:59:52 INF] Executing Command: [az account show --query id -o tsv 2>&1]\n",
      "\u001b[31;1maz: \u001b[31;1mThe term 'az' is not recognized as a name of a cmdlet, function, script file, or executable program.\u001b[0m\n",
      "\u001b[31;1m\u001b[31;1mCheck the spelling of the name, or if a path was included, verify that the path is correct and try again.\u001b[0m\n",
      "[04:59:52 FTL] An unexpected error occurred while executing the command.. Error Code: 2000\n",
      "\u001b[31;1mException: \u001b[31;1mAn unexpected error occurred while executing the command.. Error Code: 2000\u001b[0m\n"
     ]
    },
    {
     "ename": "Error",
     "evalue": "Command failed: SubmitCode: Invoke-TerminatingCommand -Command {az account sho ...",
     "output_type": "error",
     "traceback": [
      "Command failed: SubmitCode: Invoke-TerminatingCommand -Command {az account sho ..."
     ]
    }
   ],
   "source": [
    "Invoke-TerminatingCommand -Command {az account show --query id -o tsv 2>&1} -ErrorCode '2000' -ErrorParameters @(\"Subscription Id\")"
   ]
  },
  {
   "cell_type": "markdown",
   "metadata": {},
   "source": [
    "## Rad-Text-Utils\n",
    "\n",
    "These are examples of how to use the `Rad-Text-Utils` module. \n",
    "\n",
    "> If a logger is not enabled, the functions will default to use `Write-Host`, `Write-Debug`, or `Write-Warning` accordingly to display in the console.\n",
    "\n",
    "### Confirm-LoggerIsEnabled\n",
    "\n",
    "`Confirm-LoggerIsEnabled` is used to confirm that the logger is enabled. It takes in a logger object and returns a boolean value indicating if the logger is enabled or not."
   ]
  },
  {
   "cell_type": "code",
   "execution_count": 8,
   "metadata": {
    "dotnet_interactive": {
     "language": "pwsh"
    },
    "polyglot_notebook": {
     "kernelName": "pwsh"
    }
   },
   "outputs": [
    {
     "name": "stdout",
     "output_type": "stream",
     "text": [
      "True\n"
     ]
    }
   ],
   "source": [
    "Confirm-LoggerIsEnabled"
   ]
  },
  {
   "cell_type": "markdown",
   "metadata": {},
   "source": [
    "## Show-Title\n",
    "\n",
    "`Show-Title` is used to display a title in the console. It takes in a text string and displays it in the console with a `#` in front of it. \n",
    "\n",
    "> If you have a logger enabled, the function will use `Write-InfoLog` to display and log the title."
   ]
  },
  {
   "cell_type": "code",
   "execution_count": 9,
   "metadata": {
    "dotnet_interactive": {
     "language": "pwsh"
    },
    "polyglot_notebook": {
     "kernelName": "pwsh"
    }
   },
   "outputs": [
    {
     "name": "stdout",
     "output_type": "stream",
     "text": [
      "[04:48:05 INF] # THIS IS A TITLE\n"
     ]
    }
   ],
   "source": [
    "Show-Title \"This is a title\""
   ]
  },
  {
   "cell_type": "markdown",
   "metadata": {},
   "source": [
    "## Show-Output\n",
    "\n",
    "`Show-Output` is used to display informational messages to the console. \n",
    "\n",
    "> If you have a logger enabled, the function will use `Write-InfoLog` to diplay and log the output."
   ]
  },
  {
   "cell_type": "code",
   "execution_count": 10,
   "metadata": {
    "dotnet_interactive": {
     "language": "pwsh"
    },
    "polyglot_notebook": {
     "kernelName": "pwsh"
    }
   },
   "outputs": [
    {
     "name": "stdout",
     "output_type": "stream",
     "text": [
      "[04:48:10 INF] This is an example output\n"
     ]
    }
   ],
   "source": [
    "Show-Output \"This is an example output\""
   ]
  },
  {
   "cell_type": "markdown",
   "metadata": {},
   "source": [
    "## Show-DebugOutput\n",
    "\n",
    "`Show-DebugOutput` is used to display debug messages in the console.\n",
    "\n",
    "> If you have a logger enabled, the function will use `Write-DebugLog` to display and log the debug messages."
   ]
  },
  {
   "cell_type": "code",
   "execution_count": 11,
   "metadata": {
    "dotnet_interactive": {
     "language": "pwsh"
    },
    "polyglot_notebook": {
     "kernelName": "pwsh"
    }
   },
   "outputs": [],
   "source": [
    "Show-DebugOutput \"This is an example debug output\""
   ]
  },
  {
   "cell_type": "markdown",
   "metadata": {},
   "source": [
    "## Show-Warning\n",
    "\n",
    "`Show-Warning` is used to display a warning in the console. It takes in a text string and displays it in the console with a `WARNING:` in front of it.\n",
    "\n",
    "> If you have a logger enabled, the function will use `Write-WarningLog` to display and log the warning."
   ]
  },
  {
   "cell_type": "code",
   "execution_count": 12,
   "metadata": {
    "dotnet_interactive": {
     "language": "pwsh"
    },
    "polyglot_notebook": {
     "kernelName": "pwsh"
    }
   },
   "outputs": [
    {
     "name": "stdout",
     "output_type": "stream",
     "text": [
      "\u001b[93mWARNING: This is an example warning\u001b[0m\n",
      "[04:48:17 WRN] This is an example warning\n"
     ]
    }
   ],
   "source": [
    "Show-Warning \"This is an example warning\""
   ]
  },
  {
   "cell_type": "markdown",
   "metadata": {},
   "source": [
    "## Show-Error\n",
    "\n",
    "`Show-Error` is used to display non-terminating errors in the console. It takes in a text string and displays it in the console with a `ERROR:` in front of it.\n",
    "\n",
    "> If you have a logger enabled, the function will use `Write-ErrorLog` to display and log the error."
   ]
  },
  {
   "cell_type": "code",
   "execution_count": 21,
   "metadata": {
    "dotnet_interactive": {
     "language": "pwsh"
    },
    "polyglot_notebook": {
     "kernelName": "pwsh"
    }
   },
   "outputs": [
    {
     "name": "stdout",
     "output_type": "stream",
     "text": [
      "\u001b[31;1mShow-Error: \u001b[31;1mThis is an example non-terminating error\u001b[0m\n",
      "[05:00:39 ERR] This is an example non-terminating error\n"
     ]
    },
    {
     "ename": "Error",
     "evalue": "Command failed: SubmitCode: Show-Error \"This is an example non-terminating err ...",
     "output_type": "error",
     "traceback": [
      "Command failed: SubmitCode: Show-Error \"This is an example non-terminating err ..."
     ]
    }
   ],
   "source": [
    "Show-Error \"This is an example non-terminating error\""
   ]
  },
  {
   "cell_type": "markdown",
   "metadata": {},
   "source": [
    "## Show-FatalError\n",
    "\n",
    "`Show-FatalError` is used to display a fatal error in the console. It takes in a text string and displays it in the console with a `FATAL ERROR:` or `Exception` in front of it.\n",
    "\n",
    "> If you have a logger enabled, the function will use `Write-FatalLog` to display and log the fatal error."
   ]
  },
  {
   "cell_type": "code",
   "execution_count": 19,
   "metadata": {
    "dotnet_interactive": {
     "language": "pwsh"
    },
    "polyglot_notebook": {
     "kernelName": "pwsh"
    }
   },
   "outputs": [
    {
     "name": "stdout",
     "output_type": "stream",
     "text": [
      "[05:00:35 FTL] This is an example terminating error\n",
      "\u001b[31;1mException: \u001b[31;1mThis is an example terminating error\u001b[0m\n"
     ]
    },
    {
     "ename": "Error",
     "evalue": "Command failed: SubmitCode: Show-FatalError \"This is an example terminating er ...",
     "output_type": "error",
     "traceback": [
      "Command failed: SubmitCode: Show-FatalError \"This is an example terminating er ..."
     ]
    }
   ],
   "source": [
    "Show-FatalError \"This is an example terminating error\""
   ]
  }
 ],
 "metadata": {
  "kernelspec": {
   "display_name": ".NET (C#)",
   "language": "C#",
   "name": ".net-csharp"
  },
  "language_info": {
   "name": "polyglot-notebook"
  },
  "polyglot_notebook": {
   "kernelInfo": {
    "defaultKernelName": "csharp",
    "items": [
     {
      "aliases": [],
      "name": "csharp"
     }
    ]
   }
  }
 },
 "nbformat": 4,
 "nbformat_minor": 2
}
